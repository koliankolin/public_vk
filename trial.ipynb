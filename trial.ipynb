{
 "cells": [
  {
   "cell_type": "code",
   "execution_count": 45,
   "metadata": {},
   "outputs": [
    {
     "name": "stdout",
     "output_type": "stream",
     "text": [
      "Defaulting to user installation because normal site-packages is not writeable\n",
      "Collecting googletrans\n",
      "  Downloading googletrans-3.0.0.tar.gz (17 kB)\n",
      "Collecting httpx==0.13.3\n",
      "  Downloading httpx-0.13.3-py3-none-any.whl (55 kB)\n",
      "\u001b[K     |████████████████████████████████| 55 kB 1.8 MB/s eta 0:00:01\n",
      "\u001b[?25hCollecting rfc3986<2,>=1.3\n",
      "  Downloading rfc3986-1.4.0-py2.py3-none-any.whl (31 kB)\n",
      "Requirement already satisfied: idna==2.* in /usr/local/lib/python3.6/site-packages (from httpx==0.13.3->googletrans) (2.7)\n",
      "Requirement already satisfied: chardet==3.* in /usr/local/lib/python3.6/site-packages (from httpx==0.13.3->googletrans) (3.0.4)\n",
      "Collecting sniffio\n",
      "  Downloading sniffio-1.1.0-py3-none-any.whl (4.5 kB)\n",
      "Collecting hstspreload\n",
      "  Downloading hstspreload-2020.6.30-py3-none-any.whl (908 kB)\n",
      "\u001b[K     |████████████████████████████████| 908 kB 5.0 MB/s eta 0:00:01\n",
      "\u001b[?25hRequirement already satisfied: certifi in /usr/local/lib/python3.6/site-packages (from httpx==0.13.3->googletrans) (2018.4.16)\n",
      "Collecting httpcore==0.9.*\n",
      "  Downloading httpcore-0.9.1-py3-none-any.whl (42 kB)\n",
      "\u001b[K     |████████████████████████████████| 42 kB 1.5 MB/s  eta 0:00:01\n",
      "\u001b[?25hCollecting contextvars>=2.1; python_version < \"3.7\"\n",
      "  Downloading contextvars-2.4.tar.gz (9.6 kB)\n",
      "Collecting h11<0.10,>=0.8\n",
      "  Downloading h11-0.9.0-py2.py3-none-any.whl (53 kB)\n",
      "\u001b[K     |████████████████████████████████| 53 kB 2.4 MB/s  eta 0:00:01\n",
      "\u001b[?25hCollecting h2==3.*\n",
      "  Downloading h2-3.2.0-py2.py3-none-any.whl (65 kB)\n",
      "\u001b[K     |████████████████████████████████| 65 kB 3.6 MB/s  eta 0:00:01\n",
      "\u001b[?25hCollecting immutables>=0.9\n",
      "  Downloading immutables-0.14-cp36-cp36m-manylinux1_x86_64.whl (98 kB)\n",
      "\u001b[K     |████████████████████████████████| 98 kB 7.5 MB/s  eta 0:00:01\n",
      "\u001b[?25hCollecting hyperframe<6,>=5.2.0\n",
      "  Downloading hyperframe-5.2.0-py2.py3-none-any.whl (12 kB)\n",
      "Collecting hpack<4,>=3.0\n",
      "  Downloading hpack-3.0.0-py2.py3-none-any.whl (38 kB)\n",
      "Building wheels for collected packages: googletrans, contextvars\n",
      "  Building wheel for googletrans (setup.py) ... \u001b[?25ldone\n",
      "\u001b[?25h  Created wheel for googletrans: filename=googletrans-3.0.0-py3-none-any.whl size=15740 sha256=c8a69a8aaa4dcf24d4af9e6f39c72ded80fbab88d10da2df05773350b92d4a5c\n",
      "  Stored in directory: /home/stanislav/.cache/pip/wheels/06/a1/90/75375ea9aff253a4803b2356007f64aecb6ce2f1e46a0aa9ba\n",
      "  Building wheel for contextvars (setup.py) ... \u001b[?25ldone\n",
      "\u001b[?25h  Created wheel for contextvars: filename=contextvars-2.4-py3-none-any.whl size=3510 sha256=c4deca757da084bc30693c2f04d44e7469e40999d9812e0c1c1864e81525ab67\n",
      "  Stored in directory: /home/stanislav/.cache/pip/wheels/41/11/53/911724983aa48deb94792432e14e518447212dd6c5477d49d3\n",
      "Successfully built googletrans contextvars\n",
      "Installing collected packages: rfc3986, immutables, contextvars, sniffio, hstspreload, h11, hyperframe, hpack, h2, httpcore, httpx, googletrans\n",
      "Successfully installed contextvars-2.4 googletrans-3.0.0 h11-0.9.0 h2-3.2.0 hpack-3.0.0 hstspreload-2020.6.30 httpcore-0.9.1 httpx-0.13.3 hyperframe-5.2.0 immutables-0.14 rfc3986-1.4.0 sniffio-1.1.0\n"
     ]
    }
   ],
   "source": [
    "!pip install googletrans"
   ]
  },
  {
   "cell_type": "code",
   "execution_count": 46,
   "metadata": {},
   "outputs": [],
   "source": [
    "from bs4 import BeautifulSoup\n",
    "import requests\n",
    "from fake_useragent import UserAgent\n",
    "import time\n",
    "from tqdm import tqdm_notebook\n",
    "from googletrans import Translator"
   ]
  },
  {
   "cell_type": "code",
   "execution_count": 13,
   "metadata": {},
   "outputs": [],
   "source": [
    "ua = UserAgent()"
   ]
  },
  {
   "cell_type": "code",
   "execution_count": 14,
   "metadata": {},
   "outputs": [
    {
     "data": {
      "text/plain": [
       "'Mozilla/5.0 (Windows NT 6.2; WOW64) AppleWebKit/537.36 (KHTML, like Gecko) Chrome/27.0.1500.55 Safari/537.36'"
      ]
     },
     "execution_count": 14,
     "metadata": {},
     "output_type": "execute_result"
    }
   ],
   "source": [
    "ua.chrome"
   ]
  },
  {
   "cell_type": "code",
   "execution_count": 15,
   "metadata": {},
   "outputs": [],
   "source": [
    "headers = {\n",
    "    'User-Agent': ua.chrome\n",
    "}"
   ]
  },
  {
   "cell_type": "code",
   "execution_count": 16,
   "metadata": {},
   "outputs": [],
   "source": [
    "res = requests.get('https://www.mirror.co.uk/sport/football/news/', headers=headers)"
   ]
  },
  {
   "cell_type": "code",
   "execution_count": 19,
   "metadata": {},
   "outputs": [],
   "source": [
    "bs = BeautifulSoup(res.text, 'lxml')"
   ]
  },
  {
   "cell_type": "code",
   "execution_count": 20,
   "metadata": {},
   "outputs": [],
   "source": [
    "teasers = bs.findAll(\"div\", {\"class\": \"teaser\"})"
   ]
  },
  {
   "cell_type": "code",
   "execution_count": 42,
   "metadata": {},
   "outputs": [
    {
     "data": {
      "application/vnd.jupyter.widget-view+json": {
       "model_id": "43305421c63c4281806d541cbfc434cf",
       "version_major": 2,
       "version_minor": 0
      },
      "text/html": [
       "<p>Failed to display Jupyter Widget of type <code>HBox</code>.</p>\n",
       "<p>\n",
       "  If you're reading this message in the Jupyter Notebook or JupyterLab Notebook, it may mean\n",
       "  that the widgets JavaScript is still loading. If this message persists, it\n",
       "  likely means that the widgets JavaScript library is either not installed or\n",
       "  not enabled. See the <a href=\"https://ipywidgets.readthedocs.io/en/stable/user_install.html\">Jupyter\n",
       "  Widgets Documentation</a> for setup instructions.\n",
       "</p>\n",
       "<p>\n",
       "  If you're reading this message in another frontend (for example, a static\n",
       "  rendering on GitHub or <a href=\"https://nbviewer.jupyter.org/\">NBViewer</a>),\n",
       "  it may mean that your frontend doesn't currently support widgets.\n",
       "</p>\n"
      ],
      "text/plain": [
       "HBox(children=(IntProgress(value=0, max=5), HTML(value='')))"
      ]
     },
     "metadata": {},
     "output_type": "display_data"
    }
   ],
   "source": [
    "data = []\n",
    "for teaser in tqdm_notebook(teasers[:5]):\n",
    "    a = teaser.find('figure').find('a', href=True)\n",
    "    img = a.find('img')['data-src']\n",
    "    if 'https://' not in img:\n",
    "        continue\n",
    "    link_news = a['href']\n",
    "    if '/sport/football/' not in link_news:\n",
    "        continue\n",
    "    text_teaser = a['aria-label']\n",
    "\n",
    "    rs = requests.get(link_news, headers=headers)\n",
    "    soup = BeautifulSoup(rs.text, 'lxml')\n",
    "    full_text = soup.find('p', {'class': 'sub-title'}).contents[0]\n",
    "    t = dict(\n",
    "        teaser=text_teaser,\n",
    "        text=full_text,\n",
    "        link=link_news,\n",
    "        img=img,\n",
    "    )\n",
    "    data.append(t)\n",
    "    time.sleep(10)"
   ]
  },
  {
   "cell_type": "code",
   "execution_count": 44,
   "metadata": {},
   "outputs": [],
   "source": [
    "token = 'e24283c171b8e603dc6b1c2d5d767a7bb6739780166ebd004a0b577292cc62eb59ed1162b5e9d743895cd'"
   ]
  },
  {
   "cell_type": "code",
   "execution_count": null,
   "metadata": {},
   "outputs": [],
   "source": []
  },
  {
   "cell_type": "code",
   "execution_count": null,
   "metadata": {},
   "outputs": [],
   "source": [
    "\"\"\"\n",
    "https://api.vk.com/method/wall.post?owner_id=-196777471\n",
    "&message=Aston Villa's survival bid suffers big blow with Matt Targett injury news%0A%0AFormer \n",
    "Southampton full-back Targett was forced off in Saturday's home defeat against Wolves\n",
    "&attachments=https://i2-prod.mirror.co.uk/incoming/article22271684.ece/ALTERNATES/s615/0_Aston-Villa-v-Wolverhampton-Wanderers-Premier-League.jpg\n",
    "&access_token=\n",
    "5ae1826a4e05883b3ce06ad2a537d0b46c9e09e0eb9efedb85b5508de9fdf42acdda8bb82634df0f7a985\n",
    "&v=5.120&from_group=1\n",
    "\"\"\""
   ]
  },
  {
   "cell_type": "code",
   "execution_count": null,
   "metadata": {},
   "outputs": [],
   "source": []
  },
  {
   "cell_type": "code",
   "execution_count": null,
   "metadata": {},
   "outputs": [],
   "source": []
  },
  {
   "cell_type": "code",
   "execution_count": 43,
   "metadata": {},
   "outputs": [
    {
     "data": {
      "text/plain": [
       "[{'img': 'https://i2-prod.mirror.co.uk/incoming/article22271684.ece/ALTERNATES/s615/0_Aston-Villa-v-Wolverhampton-Wanderers-Premier-League.jpg',\n",
       "  'link': 'https://www.mirror.co.uk/sport/football/news/aston-villas-survival-bid-takes-22282538',\n",
       "  'teaser': \"Aston Villa's survival bid suffers big blow with Matt Targett injury news\",\n",
       "  'text': \"Former Southampton full-back Targett was forced off in Saturday's home defeat against Wolves\"},\n",
       " {'img': 'https://i2-prod.mirror.co.uk/incoming/article22247022.ece/ALTERNATES/s615/0_FBL-ENG-PR-BRIGHTON-ARSENAL.jpg',\n",
       "  'link': 'https://www.mirror.co.uk/sport/football/news/arsenal-to-announce-new-long-22282494',\n",
       "  'teaser': \"Arsenal 'to announce new long-term Bukayo Saka contract this week'\",\n",
       "  'text': \"Arsenal boss Mikel Arteta has been desperate to secure the future of youngster Bukayo Saka - and it seems an announcement on the player's future is imminent\"},\n",
       " {'img': 'https://i2-prod.mirror.co.uk/incoming/article20058005.ece/ALTERNATES/s615/0_Arsenal-Training-Session.jpg',\n",
       "  'link': 'https://www.mirror.co.uk/sport/football/news/arsenal-issue-defiant-william-saliba-22282294',\n",
       "  'teaser': \"Arsenal issue defiant William Saliba statement after 'unacceptable' U-turn criticism\",\n",
       "  'text': 'William Saliba will now return to England after no agreement could be reached between the teams over the centre back remaining in France to allow him to play in the French cup final on July 24.'},\n",
       " {'img': 'https://i2-prod.mirror.co.uk/incoming/article22282098.ece/ALTERNATES/s615/0_Screen-Shot-2020-07-01-at-092130.jpg',\n",
       "  'link': 'https://www.mirror.co.uk/sport/football/news/danny-murphy-apologises-controversial-liverpool-22282053',\n",
       "  'teaser': 'Danny Murphy apologises for his controversial Liverpool comments',\n",
       "  'text': \"Former Liverpool midfielder Danny Murphy upset the Reds supporters when he claimed some players on Jurgen Klopp's team are not fit to lace Kevin de Bruyne's boots\"},\n",
       " {'img': 'https://i2-prod.mirror.co.uk/incoming/article22111531.ece/ALTERNATES/s615/0_MAIN-Gary-Lineker-explains-why-Lionel-Messi-vs-Cristiano-Ronaldo-debate-is-not-even-close.jpg',\n",
       "  'link': 'https://www.mirror.co.uk/sport/football/news/gary-lineker-offers-fresh-take-22282000',\n",
       "  'teaser': 'Gary Lineker offers fresh take on Lionel Messi vs Cristiano Ronaldo debate',\n",
       "  'text': \"The BBC Sport presenter has long been a fan of Messi's performances for his own former club Barcelona - and the superstar scored his 700th career goal on Tuesday night\"}]"
      ]
     },
     "execution_count": 43,
     "metadata": {},
     "output_type": "execute_result"
    }
   ],
   "source": [
    "data"
   ]
  },
  {
   "cell_type": "code",
   "execution_count": 48,
   "metadata": {},
   "outputs": [],
   "source": [
    "tr = Translator(user_agent=ua.opera)"
   ]
  },
  {
   "cell_type": "code",
   "execution_count": 53,
   "metadata": {},
   "outputs": [],
   "source": [
    "res = tr.translate(data[0]['text'], dest='ru', src='en')"
   ]
  },
  {
   "cell_type": "code",
   "execution_count": 54,
   "metadata": {},
   "outputs": [
    {
     "data": {
      "text/plain": [
       "'Бывший защитник Саутгемптона Targett был вынужден в субботу домашнее поражение от волков'"
      ]
     },
     "execution_count": 54,
     "metadata": {},
     "output_type": "execute_result"
    }
   ],
   "source": [
    "res.text"
   ]
  },
  {
   "cell_type": "code",
   "execution_count": null,
   "metadata": {},
   "outputs": [],
   "source": []
  },
  {
   "cell_type": "code",
   "execution_count": null,
   "metadata": {},
   "outputs": [],
   "source": []
  }
 ],
 "metadata": {
  "kernelspec": {
   "display_name": "Python 3",
   "language": "python",
   "name": "python3"
  },
  "language_info": {
   "codemirror_mode": {
    "name": "ipython",
    "version": 3
   },
   "file_extension": ".py",
   "mimetype": "text/x-python",
   "name": "python",
   "nbconvert_exporter": "python",
   "pygments_lexer": "ipython3",
   "version": "3.6.6"
  }
 },
 "nbformat": 4,
 "nbformat_minor": 2
}
